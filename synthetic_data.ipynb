{
 "cells": [
  {
   "cell_type": "code",
   "execution_count": 11,
   "metadata": {},
   "outputs": [],
   "source": [
    "import pandas as pd\n",
    "from faker import Faker as fk\n",
    "import random"
   ]
  },
  {
   "cell_type": "code",
   "execution_count": 12,
   "metadata": {},
   "outputs": [
    {
     "name": "stdout",
     "output_type": "stream",
     "text": [
      "2025-03-05\n"
     ]
    }
   ],
   "source": [
    "# Initialize Faker instance\n",
    "fake = fk()\n",
    "\n",
    "print(fake.date_this_month())\n",
    "\n",
    "# Define the labels\n",
    "LABELS = ['O', 'B-Task', 'I-Task', 'B-Date', 'I-Date', 'B-Time', 'I-Time']\n",
    "NUM_CLASSES = len(LABELS)"
   ]
  },
  {
   "cell_type": "code",
   "execution_count": 13,
   "metadata": {},
   "outputs": [],
   "source": [
    "# Task template and example sentence patterns\n",
    "TASKS = [\n",
    "    \"Book a dentist appointment for next Friday at 3:00 PM\",\n",
    "    \"Book flight tickets today at 3:00 PM.\",\n",
    "    \"I need to send an update mail to the team at 9:00 am tomorrow.\",\n",
    "    \"Pick up my dry cleaning in two days\",\n",
    "    \"Call Mom on her birthday, which is on the 22nd at 5:00 PM.\",\n",
    "    \"Buy tickets for the concert on May 5th at 8:00 PM.\",\n",
    "    \"Submit the project report by 3pm on Thursday\",\n",
    "    \"Complete the monthly performance review by the deadline on February 28th at 23:59.\",\n",
    "    \"I need to study chapter 5 of the biology textbook by Monday.\",\n",
    "    \"Book a table at Nando's for Friday at 3:00 pm\",\n",
    "    \"Check mail confirmation today at 14:30\",\n",
    "    \"I have to finish the presentation for the team meeting at 11am tomorrow\",\n",
    "    \"Pick up Steve's medical prescriptions on March 5th at 2:00 PM.\",\n",
    "    \"Call John on his anniversary, which is tomorrow next week\",\n",
    "    \"Learn lyrics for the concert on May 12th at 21:30\",\n",
    "    \"Submit preliminary idea report by 3:00 PM on Wednesday\",\n",
    "    \"Go through the monthly expense summary by the deadline on Sep 13th at 14:21.\",\n",
    "    \"I need to buy a ruler for the physics project by Tuesday.\",\n",
    "    \"I need to get a hammer by Monday.\",\n",
    "    \"Get a taxi for the tech conference on Friday by tomorrow at 15:00\",\n",
    "    \"Mow the lawn tomorrow\",\n",
    "    \"Prepare for the math quiz on Friday\",\n",
    "    \"Order a new phone case by tomorrow at noon\",\n",
    "]"
   ]
  },
  {
   "cell_type": "code",
   "execution_count": null,
   "metadata": {},
   "outputs": [],
   "source": [
    "profession = [\"dentist\", \"doctor\", \"nurse\", \"lawyer\", \n",
    "    \"architect\", \"photographer\", \"chef\", \"therapist\", \"plumber\", \n",
    "    \"receptionist\", \"manager\"]\n",
    "time_period = [\"AM\", \"PM\", \"am\", \"pm\"]\n",
    "relative_date = [\"today\", \"tomorrow\"]\n",
    "activity = [\"flight\", \"concert\", \"party\", \"conference\", \"webinar\", \"movie\", \"trip\", \"vacation\", \n",
    "    \"shopping\", \"haircut\", \"wedding\", \"birthday\",\"graduation\", \"reunion\", \"festival\", \"tournament\", \n",
    "    \"exhibition\", \"fair\", \"carnival\", \"parade\", \"rally\", \"protest\", \"demonstration\", \"gathering\",\n",
    "    \"ceremony\", \"ritual\", \"observance\", \"celebration\", \"commemoration\", \"memorial\", \"tribute\", \"meeting\"]\n",
    "verb_1 = [\"book\", \"send\", \"watch\", \"call\", \"complete\", \"study\", \"buy\", \"finish\", \"submit\", \"analyze\", \n",
    "          \"check\", \"learn\",\"design\",\"test\",\"clean\",\"prepare\",\"read\", \"arrange\", \"organize\", \"attend\", \n",
    "          \"prepare\", \"review\", \"schedule\", \"plan\", \"reserve\", \"confirm\", \"finalize\", \"coordinate\", \"manage\", \"mow\", \"email\"]\n",
    "verb_2 = [\"pick up\", \"go through\", \"go over\",\"look into\", \"check out\", \"follow up\",\"sort out\", \"deal with\",\"wrap up\"]\n",
    "number_12 = [_ for _ in range(1,13)]\n",
    "number_24 = [_ for _ in range(1,25)]\n",
    "number = [_ for _ in range(1,13)] + [\"one\", \"two\", \"three\", \"four\", \"five\", \"six\", \"seven\", \"eight\", \"nine\", \"ten\", \"eleven\", \"twelve\"]\n",
    "person_list = [\"Mom\", \"Dad\", \"Dana\", \"Shani\", \"Ron\", \"Lia\", \"Tahel\", \"Noa\", \"Noam\", \"Gal\", \"Dror\", \"Daniel\", \"John\"]\n",
    "day_in_month = [\"1st\", \"2nd\", \"3rd\", \"4th\", \"5th\", \"6th\", \"7th\", \"8th\", \"9th\", \"10th\", \"11th\", \"12th\", \"13th\", \"14th\", \"15th\", \"16th\", \"17th\", \"18th\", \"19th\", \"20th\", \"21st\", \"22nd\", \"23rd\", \"24th\", \"25th\", \"26th\", \"27th\", \"28th\", \"29th\", \"30th\", \"31st\"]\n",
    "month = [\"Jan\", \"January\", \"Feb\", \"February\", \"Mar\", \"March\", \"Apr\", \"April\", \"May\", \"Jun\", \"June\", \n",
    "         \"Jul\", \"July\", \"Aug\", \"August\", \"Sep\", \"September\", \"Oct\", \"October\", \"Nov\", \"November\", \"Dec\", \"December\"]\n",
    "event_2 = [\"tech conference\", \"team meeting\", \"physics project\", \"math quiz\",\"board meeting\", \"client presentation\", \n",
    "           \"product launch\", \"training session\", \"networking event\", \"press conference\", \"trade show\",  \"panel discussion\", \"project timeline\"]\n",
    "obj_1 = [\"lawn\",\"garden\",\"hammer\",\"pen\",\"ruler\",\"book\",\"phone\",\"tablet\",\"laptop\",\"camera\",\n",
    "         \"watch\",\"clock\",\"computer\",\"printer\",\"monitor\",\"keyboard\",\"mouse\",\"radio\",\"headphones\",\"dishes\"]\n",
    "obj_2 = [\"phone case\", \"car key\", \"ice cream\", \"coffee table\", \"paper tray\", \"tooth brush\", \"shower gel\", \"hand mirror\", \"gym bag\", \"photo album\"]"
   ]
  },
  {
   "cell_type": "code",
   "execution_count": null,
   "metadata": {},
   "outputs": [],
   "source": [
    "TASK_TEMPLATES = [\n",
    "    \"{verb_1} a {profession} appointment for next {weekday} at {hour} {time_period}\",\n",
    "    \"{verb_1} {activity} tickets {relative_date} at {hour} {time_period}.\",\n",
    "    \"I need to {verb_1} an update mail to the team at {hour} {time_period} {relative_date}\",\n",
    "    \"{verb_2} my dry cleaning in {number} days\",\n",
    "    \"{verb_1} {person} on her {activity} which is on the {day_in_month} at {number} {time_period}.\",\n",
    "    \"{verb_1} tickets for the {activity} on {month} {day_in_month} at {hour} {time_period}.\", #hour\n",
    "    \"{verb_1} the project report by {number_12}{time_period} on {weekday}\",\n",
    "    \"{verb_1} the monthly performance review by the deadline on {month} {day_in_month} at {hour}.\", #hour\n",
    "    \"I need to {verb_1} chapter {number} of the biology textbook by {weekday}.\", #day of week\n",
    "    \"{verb_1} a table at {person}'s for {weekday} at {hour} {time_period}\", #day of week #hour\n",
    "    \"{verb_1} mail confirmation {relative_date} at {hour}\", #hour\n",
    "    \"I have to {verb_1} the presentation for the {event_2} at {number} {time_period} {relative_date}\",\n",
    "    \"{verb_2} {person}'s medical prescriptions on {month} {day_in_month} at {hour} {time_period}.\", #hour\n",
    "    \"{verb_1} {person} for his {activity} which is {relative_date} next week\",\n",
    "    \"{verb_1} lyrics for the {activity} on {month} {day_in_month} at 21:30\", #hour\n",
    "    \"{verb_1} preliminary idea report by {hour} {time_period} on {weekday}\", #hour #day of week\n",
    "    \"{verb_2} the monthly expense summary by the deadline on {month} {day_in_month} at {hour}\", #hour\n",
    "    \"I need to {verb_1} a {obj_1} for the {event_2} by {weekday}.\", #day of week\n",
    "    \"I need to {verb_1} a {obj_1} by {weekday}.\", #day_in_month\n",
    "    \"{verb_1} a taxi for the {event_2} on {weekday} by {relative_date} at {hour}\", #day of week #hour\n",
    "    \"{verb_1} the {obj_1} {relative_date}\",\n",
    "    \"{verb_1} for the {event_2} on {weekday}\", #day of week\n",
    "    \"{verb_1} a new {obj_2} by {relative_date} at noon\", #hour\n",
    "    \"Remind me to {verb_1} the {event_2} report before {weekday} at {hour} {time_period}\",\n",
    "    \"I have a {event_2} scheduled for {weekday} next week at {hour}\",\n",
    "    \"Don't forget to {verb_1} the {activity} tickets by {relative_date} at {hour}\",\n",
    "    \"{verb_1} {person}'s {activity} gift before {month} {day_in_month}\",\n",
    "    \"make sure to {verb_2} the {activity} certification by {relative_date} at midnight\",#label 28\n",
    "    \"{verb_1} the report and {verb_1} it by {weekday} at {number} {time_period}\", \n",
    "    \"I'm having a {activity} with {person} at the cafe tomorrow at noon\",\n",
    "    \"{verb_1} {person} about the {event_2} by next week\",\n",
    "    \"{verb_1} the {obj_1} before {number} {time_period} {relative_date} and then {verb_1}\",\n",
    "    \"on {month} {day_in_month} at {number_24} {verb_1} the project {event_2}\"\n",
    "]"
   ]
  },
  {
   "cell_type": "code",
   "execution_count": null,
   "metadata": {},
   "outputs": [],
   "source": [
    "LABELS = [\n",
    "    \"B-Task,O,B-Task,I-Task,O,B-Date,I-Date,O,B-Time,I-Time\",\n",
    "    \"B-Task,I-Task,I-Task,B-Date,O,B-Time,I-Time\",\n",
    "    \"O,O,O,B-Task,O,B-Task,I-Task,I-Task,O,B-Task,O,B-Time,I-Time,B-Date\",\n",
    "    \"B-Task,I-Task,O,B-Task,I-Task,B-Date,I-Date,I-Date\",\n",
    "    \"B-Task,I-Task,O,O,B-Task,O,O,B-Date,I-Date,I-Date,O,B-Time,I-Time\",\n",
    "    \"B-Task,I-Task,I-Task,O,B-Task,O,B-Date,I-Date,O,B-Time,I-Time\",\n",
    "    \"B-Task,O,B-Task,I-Task,O,B-Time,O,B-Date\",\n",
    "    \"B-Task,O,B-Task,I-Task,I-Task,O,O,O,O,B-Date,I-Date,O,B-Time\",\n",
    "    \"O,O,O,B-Task,I-Task,I-Task,O,O,O,O,O,B-Date\",\n",
    "    \"B-Task,O,B-Task,I-Task,I-Task,O,B-Date,O,B-Time,I-Time\",\n",
    "    \"B-Task,I-Task,I-Task,B-Date,O,B-Time\",\n",
    "    \"O,O,O,B-Task,O,B-Task,I-Task,I-Task,I-Task,I-Task,O,B-Time,I-Time,B-Date\",\n",
    "    \"B-Task,I-Task,I-Task,I-Task,I-Task,O,B-Date,I-Date,O,B-Time,I-Time\",\n",
    "    \"B-Task,I-Task,O,O,B-Task,O,O,B-Date,I-Date,I-Date\",\n",
    "    \"B-Task,I-Task,I-Task,O,B-Task,O,B-Date,I-Date,O,B-Time\",\n",
    "    \"B-Task,I-Task,I-Task,I-Task,O,B-Time,I-Time,O,B-Date\",\n",
    "    \"B-Task,I-Task,O,B-Task,I-Task,I-Task,O,O,O,O,B-Date,I-Date,O,B-Time\",\n",
    "    \"O,O,O,B-Task,I-Task,I-Task,I-Task,O,B-Task,I-Task,O,B-Date\",\n",
    "    \"O,O,O,B-Task,I-Task,I-Task,O,B-Date\",\n",
    "    \"B-Task,O,B-Task,I-Task,O,B-Task,I-Task,O,O,O,B-Date,O,B-Time\",\n",
    "    \"B-Task,O,B-Task,B-Date\",\n",
    "    \"B-Task,I-Task,O,B-Task,I-Task,O,B-Date\",\n",
    "    \"B-Task,I-Task,I-Task,I-Task,I-Task,O,B-Date,O,B-Time\",\n",
    "    \"O,O,O,B-Task,O,B-Task,I-Task,I-Task,O,B-Date,O,B-Time,I-Time\",\n",
    "    \"O,O,O,B-Task,I-Task,O,O,B-Date,I-Date,I-Date,O,B-Time\",\n",
    "    \"O,O,O,B-Task,O,B-Task,I-Task,O,B-Date,O,B-Time\",\n",
    "    \"B-Task,I-Task,I-Task,I-Task,O,B-Date,I-Date\",  # Existing 27 labels\n",
    "    \"O,O,O,B-Task,I-Task,O,B-Task,I-Task,O,B-Date,O,B-Time\",  # Added for template 28\n",
    "    \"B-Task,O,B-Task,I-Task,I-Task,I-Task,O,B-Date,O,B-Time,I-Time\",\n",
    "    \"O,O,O,B-Task,I-Task,I-Task,O,O,O,B-Date,O,B-Time\",\n",
    "    \"B-Task,I-Task,I-Task,I-Task,I-Task,I-Task,O,B-Date,I-Date\",\n",
    "    \"B-Task,I-Task,I-Task,O,B-Time,I-Time,B-Date,O,O,O\",\n",
    "    \"O,B-Date,I-Date,O,B-Time,B-Task,O,B-Task,I-Task,I-Task\"\n",
    "]"
   ]
  },
  {
   "cell_type": "code",
   "execution_count": null,
   "metadata": {},
   "outputs": [],
   "source": [
    "data = []\n",
    "\n",
    "for _ in range(8000):\n",
    "    # Randomly choose an hour in the format hh:mm (12-hour format)\n",
    "    time = f\"{random.randint(1, 12)}:{random.choice([0, 10, 15, 20, 25, 30, 40, 45, 50]):02}\"\n",
    "    person_choice = random.choice(person_list + [fake.first_name()])\n",
    "\n",
    "    # Generate the task using random choices and the chosen time\n",
    "    task_template = random.choice(TASK_TEMPLATES)\n",
    "    task_index = TASK_TEMPLATES.index(task_template)\n",
    "\n",
    "    task = task_template.format(\n",
    "        verb_1=random.choice(verb_1),\n",
    "        verb_2=random.choice(verb_2),\n",
    "        profession=random.choice(profession),\n",
    "        weekday=random.choice([\"Monday\", \"Tuesday\", \"Wednesday\", \"Thursday\", \"Friday\", \"Saturday\", \"Sunday\"]),\n",
    "        hour=time,\n",
    "        time_period=random.choice(time_period),\n",
    "        relative_date=random.choice(relative_date),\n",
    "        activity=random.choice(activity),\n",
    "        person=person_choice,\n",
    "        day_in_month=random.choice(day_in_month),\n",
    "        month=random.choice(month),\n",
    "        event_2=random.choice(event_2),\n",
    "        number=random.choice(number),\n",
    "        number_12 = random.choice(number_12),\n",
    "        obj_1 = random.choice(obj_1),\n",
    "        obj_2 = random.choice(obj_2)\n",
    "    )\n",
    "\n",
    "    label = LABELS[task_index]\n",
    "    data.append({\"Task\":task, \"Label\":label})"
   ]
  },
  {
   "cell_type": "code",
   "execution_count": 21,
   "metadata": {},
   "outputs": [
    {
     "name": "stdout",
     "output_type": "stream",
     "text": [
      "data saved to 'NER_Data.csv'\n"
     ]
    }
   ],
   "source": [
    "df = pd.DataFrame(data)\n",
    "df.to_csv(\"NER_Data.csv\", index=False)\n",
    "print(\"data saved to 'NER_Data.csv'\")"
   ]
  }
 ],
 "metadata": {
  "kernelspec": {
   "display_name": "Python 3",
   "language": "python",
   "name": "python3"
  },
  "language_info": {
   "codemirror_mode": {
    "name": "ipython",
    "version": 3
   },
   "file_extension": ".py",
   "mimetype": "text/x-python",
   "name": "python",
   "nbconvert_exporter": "python",
   "pygments_lexer": "ipython3",
   "version": "3.10.1"
  }
 },
 "nbformat": 4,
 "nbformat_minor": 2
}
